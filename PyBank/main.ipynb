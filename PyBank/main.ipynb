{
 "cells": [
  {
   "cell_type": "code",
   "execution_count": 121,
   "id": "c69805ae-6fd9-4496-8607-236f8796a8c7",
   "metadata": {},
   "outputs": [
    {
     "name": "stdout",
     "output_type": "stream",
     "text": [
      "[['Jan-2010', '867884'], ['Feb-2010', '984655'], ['Mar-2010', '322013'], ['Apr-2010', '-69417'], ['May-2010', '310503'], ['Jun-2010', '522857'], ['Jul-2010', '1033096'], ['Aug-2010', '604885'], ['Sep-2010', '-216386'], ['Oct-2010', '477532'], ['Nov-2010', '893810'], ['Dec-2010', '-80353'], ['Jan-2011', '779806'], ['Feb-2011', '-335203'], ['Mar-2011', '697845'], ['Apr-2011', '793163'], ['May-2011', '485070'], ['Jun-2011', '584122'], ['Jul-2011', '62729'], ['Aug-2011', '668179'], ['Sep-2011', '899906'], ['Oct-2011', '834719'], ['Nov-2011', '132003'], ['Dec-2011', '309978'], ['Jan-2012', '-755566'], ['Feb-2012', '1170593'], ['Mar-2012', '252788'], ['Apr-2012', '1151518'], ['May-2012', '817256'], ['Jun-2012', '570757'], ['Jul-2012', '506702'], ['Aug-2012', '-1022534'], ['Sep-2012', '475062'], ['Oct-2012', '779976'], ['Nov-2012', '144175'], ['Dec-2012', '542494'], ['Jan-2013', '359333'], ['Feb-2013', '321469'], ['Mar-2013', '67780'], ['Apr-2013', '471435'], ['May-2013', '565603'], ['Jun-2013', '872480'], ['Jul-2013', '789480'], ['Aug-2013', '999942'], ['Sep-2013', '-1196225'], ['Oct-2013', '268997'], ['Nov-2013', '-687986'], ['Dec-2013', '1150461'], ['Jan-2014', '682458'], ['Feb-2014', '617856'], ['Mar-2014', '824098'], ['Apr-2014', '581943'], ['May-2014', '132864'], ['Jun-2014', '448062'], ['Jul-2014', '689161'], ['Aug-2014', '800701'], ['Sep-2014', '1166643'], ['Oct-2014', '947333'], ['Nov-2014', '578668'], ['Dec-2014', '988505'], ['Jan-2015', '1139715'], ['Feb-2015', '1029471'], ['Mar-2015', '687533'], ['Apr-2015', '-524626'], ['May-2015', '158620'], ['Jun-2015', '87795'], ['Jul-2015', '423389'], ['Aug-2015', '840723'], ['Sep-2015', '568529'], ['Oct-2015', '332067'], ['Nov-2015', '989499'], ['Dec-2015', '778237'], ['Jan-2016', '650000'], ['Feb-2016', '-1100387'], ['Mar-2016', '-174946'], ['Apr-2016', '757143'], ['May-2016', '445709'], ['Jun-2016', '712961'], ['Jul-2016', '-1163797'], ['Aug-2016', '569899'], ['Sep-2016', '768450'], ['Oct-2016', '102685'], ['Nov-2016', '795914'], ['Dec-2016', '60988'], ['Jan-2017', '138230'], ['Feb-2017', '671099']]\n"
     ]
    }
   ],
   "source": [
    "from pathlib import Path\n",
    "import csv\n",
    "\n",
    "profit_losses_list = []\n",
    "\n",
    "csvpath = Path('budget_data.csv')\n",
    "with open(csvpath, 'r') as csvfile:    \n",
    "    csvreader = csv.reader(csvfile, delimiter = ',')   \n",
    "    header = next(csvreader)    \n",
    "    for row in csvreader:\n",
    "        profit_losses_list.append(row)\n",
    "print(profit_losses_list)"
   ]
  },
  {
   "cell_type": "code",
   "execution_count": 122,
   "id": "fe88e289-1637-4172-a3cb-dc27a0f1a73f",
   "metadata": {},
   "outputs": [
    {
     "name": "stdout",
     "output_type": "stream",
     "text": [
      "The total number of months:86\n"
     ]
    }
   ],
   "source": [
    "count_month = 0\n",
    "                                                            \n",
    "for row in profit_losses_list:\n",
    "    count_month += 1\n",
    "print (f\"The total number of months:{count_month}\")"
   ]
  },
  {
   "cell_type": "code",
   "execution_count": 123,
   "id": "95cca4c5-f1d7-494e-bd4e-ef9eb182c416",
   "metadata": {},
   "outputs": [
    {
     "name": "stdout",
     "output_type": "stream",
     "text": [
      "The net total amount of Profit/Losses:38382578\n"
     ]
    }
   ],
   "source": [
    "total_profit_loss = 0\n",
    "\n",
    "for row in profit_losses_list:\n",
    "    profit_loss = int(row[1])\n",
    "    total_profit_loss += profit_loss\n",
    "print (f\"The net total amount of Profit/Losses:{total_profit_loss}\")"
   ]
  },
  {
   "cell_type": "code",
   "execution_count": 124,
   "id": "0b245f83-2e95-4f4a-9d9c-41c929461f21",
   "metadata": {},
   "outputs": [
    {
     "name": "stdout",
     "output_type": "stream",
     "text": [
      "[116771, -662642, -391430, 379920, 212354, 510239, -428211, -821271, 693918, 416278, -974163, 860159, -1115009, 1033048, 95318, -308093, 99052, -521393, 605450, 231727, -65187, -702716, 177975, -1065544, 1926159, -917805, 898730, -334262, -246499, -64055, -1529236, 1497596, 304914, -635801, 398319, -183161, -37864, -253689, 403655, 94168, 306877, -83000, 210462, -2196167, 1465222, -956983, 1838447, -468003, -64602, 206242, -242155, -449079, 315198, 241099, 111540, 365942, -219310, -368665, 409837, 151210, -110244, -341938, -1212159, 683246, -70825, 335594, 417334, -272194, -236462, 657432, -211262, -128237, -1750387, 925441, 932089, -311434, 267252, -1876758, 1733696, 198551, -665765, 693229, -734926, 77242, 532869]\n",
      "-------------------------------------------------------------------------------------\n",
      "-196785\n",
      "85\n",
      "-------------------------------------------------------------------------------------\n",
      "The average of the changes in Profit/Losses:-2315.12\n"
     ]
    }
   ],
   "source": [
    "pnl_change_list = []\n",
    "\n",
    "pnl_change = 0\n",
    "total_pnl_changes = 0\n",
    "num_changes = 0\n",
    "\n",
    "\n",
    "for i in range(0,len(profit_losses_list)-1):\n",
    "    if i < len(profit_losses_list) - 1:\n",
    "        pnl_change = int(profit_losses_list[i+1][1]) - int(profit_losses_list[i][1]) \n",
    "        pnl_change_list.append(pnl_change)\n",
    "\n",
    "        \n",
    "print(pnl_change_list)\n",
    "print(\"-------------------------------------------------------------------------------------\")\n",
    "\n",
    "for pnl_change in pnl_change_list:      \n",
    "    total_pnl_changes += pnl_change    \n",
    "    num_changes += 1 \n",
    "print(total_pnl_changes)    \n",
    "print(num_changes)\n",
    "\n",
    "print(\"-------------------------------------------------------------------------------------\")\n",
    "\n",
    "average_change = round(total_pnl_changes / num_changes, 2)\n",
    "print (f\"The average of the changes in Profit/Losses:{average_change}\")"
   ]
  },
  {
   "cell_type": "code",
   "execution_count": 125,
   "id": "ce5ea9fc-ead0-4e2c-b733-81e6a6fe8b5a",
   "metadata": {},
   "outputs": [
    {
     "name": "stdout",
     "output_type": "stream",
     "text": [
      "[['Jan-2010', '867884'], ['Feb-2010', '984655', '116771'], ['Mar-2010', '322013', '-662642'], ['Apr-2010', '-69417', '-391430'], ['May-2010', '310503', '379920'], ['Jun-2010', '522857', '212354'], ['Jul-2010', '1033096', '510239'], ['Aug-2010', '604885', '-428211'], ['Sep-2010', '-216386', '-821271'], ['Oct-2010', '477532', '693918'], ['Nov-2010', '893810', '416278'], ['Dec-2010', '-80353', '-974163'], ['Jan-2011', '779806', '860159'], ['Feb-2011', '-335203', '-1115009'], ['Mar-2011', '697845', '1033048'], ['Apr-2011', '793163', '95318'], ['May-2011', '485070', '-308093'], ['Jun-2011', '584122', '99052'], ['Jul-2011', '62729', '-521393'], ['Aug-2011', '668179', '605450'], ['Sep-2011', '899906', '231727'], ['Oct-2011', '834719', '-65187'], ['Nov-2011', '132003', '-702716'], ['Dec-2011', '309978', '177975'], ['Jan-2012', '-755566', '-1065544'], ['Feb-2012', '1170593', '1926159'], ['Mar-2012', '252788', '-917805'], ['Apr-2012', '1151518', '898730'], ['May-2012', '817256', '-334262'], ['Jun-2012', '570757', '-246499'], ['Jul-2012', '506702', '-64055'], ['Aug-2012', '-1022534', '-1529236'], ['Sep-2012', '475062', '1497596'], ['Oct-2012', '779976', '304914'], ['Nov-2012', '144175', '-635801'], ['Dec-2012', '542494', '398319'], ['Jan-2013', '359333', '-183161'], ['Feb-2013', '321469', '-37864'], ['Mar-2013', '67780', '-253689'], ['Apr-2013', '471435', '403655'], ['May-2013', '565603', '94168'], ['Jun-2013', '872480', '306877'], ['Jul-2013', '789480', '-83000'], ['Aug-2013', '999942', '210462'], ['Sep-2013', '-1196225', '-2196167'], ['Oct-2013', '268997', '1465222'], ['Nov-2013', '-687986', '-956983'], ['Dec-2013', '1150461', '1838447'], ['Jan-2014', '682458', '-468003'], ['Feb-2014', '617856', '-64602'], ['Mar-2014', '824098', '206242'], ['Apr-2014', '581943', '-242155'], ['May-2014', '132864', '-449079'], ['Jun-2014', '448062', '315198'], ['Jul-2014', '689161', '241099'], ['Aug-2014', '800701', '111540'], ['Sep-2014', '1166643', '365942'], ['Oct-2014', '947333', '-219310'], ['Nov-2014', '578668', '-368665'], ['Dec-2014', '988505', '409837'], ['Jan-2015', '1139715', '151210'], ['Feb-2015', '1029471', '-110244'], ['Mar-2015', '687533', '-341938'], ['Apr-2015', '-524626', '-1212159'], ['May-2015', '158620', '683246'], ['Jun-2015', '87795', '-70825'], ['Jul-2015', '423389', '335594'], ['Aug-2015', '840723', '417334'], ['Sep-2015', '568529', '-272194'], ['Oct-2015', '332067', '-236462'], ['Nov-2015', '989499', '657432'], ['Dec-2015', '778237', '-211262'], ['Jan-2016', '650000', '-128237'], ['Feb-2016', '-1100387', '-1750387'], ['Mar-2016', '-174946', '925441'], ['Apr-2016', '757143', '932089'], ['May-2016', '445709', '-311434'], ['Jun-2016', '712961', '267252'], ['Jul-2016', '-1163797', '-1876758'], ['Aug-2016', '569899', '1733696'], ['Sep-2016', '768450', '198551'], ['Oct-2016', '102685', '-665765'], ['Nov-2016', '795914', '693229'], ['Dec-2016', '60988', '-734926'], ['Jan-2017', '138230', '77242'], ['Feb-2017', '671099', '532869']]\n"
     ]
    }
   ],
   "source": [
    "for i in range(len(profit_losses_list)-1):\n",
    "    profit_losses_list[i+1].append(str(pnl_change_list[i]))\n",
    "\n",
    "                \n",
    "print(profit_losses_list)"
   ]
  },
  {
   "cell_type": "code",
   "execution_count": 156,
   "id": "c54c52d7-8940-4ad6-ab0a-b0533de1c1b5",
   "metadata": {},
   "outputs": [
    {
     "name": "stdout",
     "output_type": "stream",
     "text": [
      "The greatest decrease in losses: [Sep-2013] -2196167\n",
      "The greatest increase in profits: [Feb-2012] 1926159\n"
     ]
    }
   ],
   "source": [
    "# Logic to determine min and max pnl\n",
    "maximum_increase_profit = 0\n",
    "maximum_decrease_losses = 0\n",
    "change = 0\n",
    "month = \"\"\n",
    "\n",
    "for n in range(len(profit_losses_list)-1):\n",
    "    if n !=0:\n",
    "        change = int(profit_losses_list[n][2])\n",
    "        month = (profit_losses_list[n][0])\n",
    "    # print(month, change)\n",
    "    if maximum_decrease_losses > change:\n",
    "        maximum_decrease_losses = change\n",
    "        maximum_decrease_losses_month = month\n",
    "    elif maximum_increase_profit < change:\n",
    "        maximum_increase_profit = change\n",
    "        maximum_increase_profit_month = month\n",
    "        \n",
    "print (f\"The greatest decrease in losses: [{maximum_decrease_losses_month}] {maximum_decrease_losses}\") \n",
    "print (f\"The greatest increase in profits: [{maximum_increase_profit_month}] {maximum_increase_profit}\")\n"
   ]
  },
  {
   "cell_type": "code",
   "execution_count": 159,
   "id": "aa7b9916-2bb6-4d0f-9cab-3a33afb213b9",
   "metadata": {},
   "outputs": [],
   "source": [
    "output_path = Path(\"output.txt\")\n",
    "\n",
    "with open(output_path, 'w') as file:\n",
    "    file.write(f\"The total number of months:{count_month} \\n\")\n",
    "    file.write(f\"The net total amount of Profit/Losses:{total_profit_loss} \\n\")\n",
    "    file.write(f\"The average of the changes in Profit/Losses:{average_change} \\n\")\n",
    "    file.write(f\"The greatest decrease in losses：[{maximum_decrease_losses_month}] {maximum_decrease_losses} \\n\")\n",
    "    file.write(f\"The greatest increase in profits：[{maximum_increase_profit_month}] {maximum_increase_profit}\")"
   ]
  },
  {
   "cell_type": "code",
   "execution_count": null,
   "id": "1b82762c-f5eb-4282-b002-f93553468710",
   "metadata": {},
   "outputs": [],
   "source": []
  }
 ],
 "metadata": {
  "kernelspec": {
   "display_name": "Python 3 (ipykernel)",
   "language": "python",
   "name": "python3"
  },
  "language_info": {
   "codemirror_mode": {
    "name": "ipython",
    "version": 3
   },
   "file_extension": ".py",
   "mimetype": "text/x-python",
   "name": "python",
   "nbconvert_exporter": "python",
   "pygments_lexer": "ipython3",
   "version": "3.9.13"
  }
 },
 "nbformat": 4,
 "nbformat_minor": 5
}
